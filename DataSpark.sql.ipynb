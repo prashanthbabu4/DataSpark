{
 "cells": [
  {
   "cell_type": "code",
   "execution_count": 3,
   "id": "42f2a44d-4cb8-47a1-a882-90993ceb0921",
   "metadata": {},
   "outputs": [],
   "source": [
    "#import libraries\n",
    "import mysql.connector\n",
    "import pandas as pd\n",
    "import numpy as np"
   ]
  },
  {
   "cell_type": "code",
   "execution_count": 68,
   "id": "c46fabc8-7d1e-4a48-8295-66434e1138b6",
   "metadata": {},
   "outputs": [],
   "source": [
    "\n",
    "import pandas as pd\n",
    "import mysql.connector  \n",
    "\n",
    "conn= mysql.connector.connect (host =\"127.0.0.1\", user = \"root\", password = \"bike\" , database = \"dataspark\")\n",
    "cursor = conn.cursor()"
   ]
  },
  {
   "cell_type": "markdown",
   "id": "ee625b99-1656-4311-a335-d89b3bc90360",
   "metadata": {},
   "source": [
    " # Customer data"
   ]
  },
  {
   "cell_type": "code",
   "execution_count": 11,
   "id": "b9b804e8-78e6-47d9-8aaf-348ce121bc29",
   "metadata": {},
   "outputs": [],
   "source": [
    "create1 = '''CREATE TABLE IF NOT EXISTS Customer (\n",
    "    CustomerKey INT NOT NULL,\n",
    "    Gender VARCHAR(255) NOT NULL,\n",
    "    Name VARCHAR(255) NOT NULL,\n",
    "    City VARCHAR(255) NOT NULL,\n",
    "    StateCode VARCHAR(255) NULL, \n",
    "    State VARCHAR(255) NULL,\n",
    "    ZipCode VARCHAR(255) NOT NULL, \n",
    "    Country VARCHAR(255) NOT NULL,\n",
    "    Continent VARCHAR(255) NOT NULL,\n",
    "    Birthday DATE \n",
    ")'''\n",
    "\n",
    "                 \n",
    "\n",
    "# Execute table creation\n",
    "cursor.execute(create1)"
   ]
  },
  {
   "cell_type": "code",
   "execution_count": 14,
   "id": "f7cee062-9d31-4a06-9f3a-25ab1328cf59",
   "metadata": {},
   "outputs": [
    {
     "name": "stdout",
     "output_type": "stream",
     "text": [
      "15266 rows were inserted.\n"
     ]
    }
   ],
   "source": [
    "insert1 = \"\"\"INSERT INTO Customer(\n",
    "                  CustomerKey,\n",
    "                  Gender,\n",
    "                  Name,\n",
    "                  City,\n",
    "                  StateCode,\n",
    "                  State,\n",
    "                  ZipCode,\n",
    "                  Country,\n",
    "                  Continent,\n",
    "                  Birthday)\n",
    "                VALUES(%s, %s, %s, %s, %s, %s, %s, %s, %s, %s)\"\"\"\n",
    "\n",
    "\n",
    "# Convert DataFrame to list of tuples\n",
    "data = df_customer.values.tolist()\n",
    "\n",
    "# Execute batch insert\n",
    "cursor.executemany(insert1, data)\n",
    "\n",
    "# Commit the transaction using the connection object\n",
    "conn.commit()\n",
    "\n",
    "# Print number of rows inserted\n",
    "print(cursor.rowcount, \"rows were inserted.\")\n",
    "\n",
    "# Close the cursor and connection\n",
    "cursor.close()\n",
    "conn.close()"
   ]
  },
  {
   "cell_type": "markdown",
   "id": "265e656d-9ef1-4c7f-8289-5ed9f0352bb4",
   "metadata": {},
   "source": [
    "# Products data set"
   ]
  },
  {
   "cell_type": "code",
   "execution_count": 26,
   "id": "d4cdb0a4-fa68-48be-8808-059b0d1642a7",
   "metadata": {},
   "outputs": [],
   "source": [
    "\n",
    "create2 = '''CREATE TABLE IF NOT EXISTS Products (\n",
    "    ProductKey INT NOT NULL,\n",
    "    ProductName VARCHAR(255) NOT NULL,\n",
    "    Brand VARCHAR(255) NOT NULL,\n",
    "    Color VARCHAR(255) NOT NULL,\n",
    "    UnitCostUSD VARCHAR(255) NULL, \n",
    "    UnitPriceUSD VARCHAR(255) NULL,\n",
    "    SubcategoryKey INT NOT NULL, \n",
    "    Subcategory VARCHAR(255) NOT NULL,\n",
    "    CategoryKey INT NOT NULL,\n",
    "    Category VARCHAR(255) NOT NULL\n",
    "    \n",
    ")'''\n",
    "          \n",
    "\n",
    "# Execute table creation\n",
    "cursor.execute(create2)"
   ]
  },
  {
   "cell_type": "code",
   "execution_count": 27,
   "id": "f09569f1-da8f-466e-8771-6cdc2afd1c4f",
   "metadata": {},
   "outputs": [
    {
     "name": "stdout",
     "output_type": "stream",
     "text": [
      "2517 rows were inserted.\n"
     ]
    }
   ],
   "source": [
    "insert2 = \"\"\"INSERT INTO Products(\n",
    "                  ProductKey,\n",
    "                  ProductName,\n",
    "                  Brand,\n",
    "                  Color,\n",
    "                  UnitCostUSD,\n",
    "                  UnitPriceUSD,\n",
    "                  SubcategoryKey,\n",
    "                  Subcategory,\n",
    "                  CategoryKey,\n",
    "                  Category\n",
    "                  )\n",
    "                VALUES(%s,%s, %s, %s,%s, %s, %s,%s, %s, %s)\"\"\"\n",
    "\n",
    "\n",
    "# Convert DataFrame to list of tuples\n",
    "data = df_products.values.tolist()\n",
    "\n",
    "# Execute batch insert\n",
    "cursor.executemany(insert2, data)\n",
    "\n",
    "# Commit the transaction using the connection object\n",
    "conn.commit()\n",
    "\n",
    "# Print number of rows inserted\n",
    "print(cursor.rowcount, \"rows were inserted.\")\n",
    "\n",
    "# Close the cursor and connection\n",
    "cursor.close()\n",
    "conn.close()"
   ]
  },
  {
   "cell_type": "markdown",
   "id": "090d3420-f2bd-45a9-801e-b6ca2a8f49ae",
   "metadata": {},
   "source": [
    "# sales data"
   ]
  },
  {
   "cell_type": "code",
   "execution_count": 39,
   "id": "4cdde20b-18ff-46c9-bf55-25746773b3bc",
   "metadata": {},
   "outputs": [],
   "source": [
    "create3 = '''CREATE TABLE IF NOT EXISTS Sales (\n",
    "    OrderNumber INT NOT NULL,\n",
    "    LineItem INT NOT NULL,\n",
    "    OrderDate VARCHAR(255) NOT NULL,\n",
    "    CustomerKey INT NOT NULL,\n",
    "    StoreKey INT NOT NULL, \n",
    "    ProductKey INT NOT NULL,\n",
    "    Quantity INT NOT NULL, \n",
    "    CurrencyCode VARCHAR(255) NOT NULL\n",
    "   \n",
    ")'''     \n",
    "\n",
    "# Execute table creation\n",
    "cursor.execute(create3)"
   ]
  },
  {
   "cell_type": "code",
   "execution_count": 40,
   "id": "20460c51-5b2e-4cb2-9ab7-9146455cebbf",
   "metadata": {},
   "outputs": [
    {
     "name": "stdout",
     "output_type": "stream",
     "text": [
      "62884 rows were inserted.\n"
     ]
    }
   ],
   "source": [
    "insert3 = \"\"\"INSERT INTO Sales (\n",
    "                  OrderNumber,\n",
    "                  LineItem,\n",
    "                  OrderDate,\n",
    "                  CustomerKey,\n",
    "                  StoreKey,\n",
    "                  ProductKey,\n",
    "                  Quantity,\n",
    "                  CurrencyCode\n",
    "                )\n",
    "                VALUES(%s, %s, %s, %s, %s, %s, %s, %s)\"\"\"\n",
    "\n",
    "\n",
    "\n",
    "# Convert DataFrame to list of tuples\n",
    "data = df_sales.values.tolist()\n",
    "\n",
    "# Execute batch insert\n",
    "cursor.executemany(insert3, data)\n",
    "\n",
    "# Commit the transaction using the connection object\n",
    "conn.commit()\n",
    "\n",
    "# Print number of rows inserted\n",
    "print(cursor.rowcount, \"rows were inserted.\")\n",
    "\n",
    "# Close the cursor and connection\n",
    "cursor.close()\n",
    "conn.close()"
   ]
  },
  {
   "cell_type": "markdown",
   "id": "364d6527-3e4a-49f2-b69d-0cfa0770244f",
   "metadata": {},
   "source": [
    "# Store Data"
   ]
  },
  {
   "cell_type": "code",
   "execution_count": 54,
   "id": "e491edb2-7efc-41e2-8daf-661f3d14415b",
   "metadata": {},
   "outputs": [],
   "source": [
    " \n",
    "\n",
    "\n",
    "create4 = '''CREATE TABLE IF NOT EXISTS Store (\n",
    "    StoreKey   INT NOT NULL,\n",
    "    Country    VARCHAR(255) NOT NULL,\n",
    "    State VARCHAR(255) NOT NULL,\n",
    "    SquareMeters VARCHAR(255) NOT NULL, \n",
    "    OpenDate VARCHAR(255) NOT NULL\n",
    "    \n",
    "   \n",
    ")'''     \n",
    "\n",
    "# Execute table creation\n",
    "my_cursor.execute(create4)"
   ]
  },
  {
   "cell_type": "code",
   "execution_count": 56,
   "id": "b0b22284-afa6-4a7e-864a-ab373e197929",
   "metadata": {},
   "outputs": [
    {
     "name": "stdout",
     "output_type": "stream",
     "text": [
      "67 rows were inserted.\n"
     ]
    }
   ],
   "source": [
    "insert4 = \"\"\"INSERT INTO Store (\n",
    "                  StoreKey,\n",
    "                  Country,\n",
    "                  State,\n",
    "                  SquareMeters,\n",
    "                  OpenDate\n",
    "                )\n",
    "                VALUES(%s, %s, %s, %s, %s)\"\"\"\n",
    "\n",
    "\n",
    "\n",
    "\n",
    "# Convert DataFrame to list of tuples\n",
    "data = df_stores.values.tolist()\n",
    "\n",
    "# Execute batch insert\n",
    "cursor.executemany(insert4, data)\n",
    "\n",
    "# Commit the transaction using the connection object\n",
    "conn.commit()\n",
    "\n",
    "# Print number of rows inserted\n",
    "print(cursor.rowcount, \"rows were inserted.\")\n",
    "\n",
    "# Close the cursor and connection\n",
    "cursor.close()\n",
    "conn.close()"
   ]
  },
  {
   "cell_type": "markdown",
   "id": "d8b1c66a-370e-446f-be2e-500132e042b5",
   "metadata": {},
   "source": [
    "# Exchange rates"
   ]
  },
  {
   "cell_type": "code",
   "execution_count": 69,
   "id": "81ad1bc4-5d69-494a-ad0a-f221f99b59cf",
   "metadata": {},
   "outputs": [],
   "source": [
    " \n",
    "\n",
    "create5 = '''CREATE TABLE IF NOT EXISTS Exchange_Rates (\n",
    "    Date   VARCHAR(255) NOT NULL,\n",
    "    Currency VARCHAR(255) NOT NULL,\n",
    "    Exchange VARCHAR(255) NOT NULL\n",
    ")'''\n",
    "\n",
    "# Execute table creation\n",
    "cursor.execute(create5)"
   ]
  },
  {
   "cell_type": "code",
   "execution_count": 73,
   "id": "0b1edd9b-4c32-4b76-b7d5-fad084706c39",
   "metadata": {},
   "outputs": [
    {
     "name": "stdout",
     "output_type": "stream",
     "text": [
      "11215 rows were inserted.\n"
     ]
    }
   ],
   "source": [
    "insert5 = \"\"\"INSERT INTO Exchange_Rates(\n",
    "                  Date,\n",
    "                  Currency,\n",
    "                  Exchange\n",
    "                  )\n",
    "                VALUES(%s, %s, %s)\"\"\"\n",
    "\n",
    "\n",
    "# Convert DataFrame to list of tuples\n",
    "data = df_exchange.values.tolist()\n",
    "\n",
    "# Execute batch insert}\n",
    "cursor.executemany(insert5, data)\n",
    "\n",
    "# Commit the transaction using the connection object\n",
    "conn.commit()\n",
    "\n",
    "# Print number of rows inserted\n",
    "print(cursor.rowcount, \"rows were inserted.\")\n",
    "\n",
    "# Close the cursor and connection\n",
    "cursor.close()\n",
    "conn.close()"
   ]
  },
  {
   "cell_type": "code",
   "execution_count": null,
   "id": "0afe8ed2-d503-4962-a388-f33f94fef53c",
   "metadata": {},
   "outputs": [],
   "source": []
  },
  {
   "cell_type": "code",
   "execution_count": null,
   "id": "8a6a605d-3a3f-437b-ab71-acc84bee9786",
   "metadata": {},
   "outputs": [],
   "source": []
  },
  {
   "cell_type": "code",
   "execution_count": null,
   "id": "37a881f0-d409-44d7-b9e2-9b21e4a50b55",
   "metadata": {},
   "outputs": [],
   "source": []
  },
  {
   "cell_type": "code",
   "execution_count": null,
   "id": "488c3425-2f29-4c42-a200-37ac8eba6302",
   "metadata": {},
   "outputs": [],
   "source": []
  },
  {
   "cell_type": "code",
   "execution_count": null,
   "id": "a756281d-374a-497b-a6c8-398c7bbf9656",
   "metadata": {},
   "outputs": [],
   "source": [
    "use dataspark;\n",
    "#1Get total sales by product\n",
    "SELECT p.ProductName, SUM(s.Quantity) AS Total_Sales\n",
    "FROM sales s\n",
    "JOIN products p ON s.ProductKey = p.ProductKey\n",
    "GROUP BY p.ProductName;\n",
    "\n",
    "#2Find the most sold product\n",
    "\n",
    "\n",
    "SELECT p.ProductName, SUM(s.Quantity) AS Total_Sales\n",
    "FROM sales s\n",
    "JOIN products p ON s.ProductKey = p.ProductKey\n",
    "GROUP BY p.ProductName\n",
    "ORDER BY Total_Sales DESC;\n",
    "\n",
    "#3Get the total quantity sold by store and product\n",
    "SELECT st.StoreKey, p.ProductName, SUM(s.Quantity) AS Total_Quantity\n",
    "FROM sales s\n",
    "JOIN products p ON s.ProductKey = p.ProductKey\n",
    "JOIN store st ON s.StoreKey = st.StoreKey\n",
    "GROUP BY st.StoreKey, p.ProductName;\n",
    "#4Find the exchange rate for a specific date and currency\n",
    "SELECT Exchange\n",
    "FROM exchange_rates\n",
    "WHERE Date = '1/1/2015' AND Currency = 'EUR';\n",
    "#5\n",
    "SELECT st.StoreKey, AVG(s.Quantity) AS Average_Order_Size\n",
    "FROM sales s\n",
    "JOIN store st ON s.StoreKey = st.StoreKey\n",
    "GROUP BY st.StoreKey;\n",
    "# 6Get the total number of sales for each currency\n",
    " \n",
    "SELECT s.CurrencyCode, SUM(s.Quantity) AS Total_Sales\n",
    "FROM sales s\n",
    "GROUP BY s.CurrencyCode;\n",
    "\n",
    "\n",
    "#7Get the number of sales for a specific product by year\n",
    "SELECT EXTRACT(YEAR FROM s.OrderDate) AS Year, SUM(s.Quantity) AS Total_Sales\n",
    "FROM sales s\n",
    "JOIN products p ON s.ProductKey = p.ProductKey\n",
    "WHERE p.ProductName = 'Contoso 512MB MP3 Player E51 Silver'\n",
    "GROUP BY Year;\n",
    "#8\n",
    "SELECT EXTRACT(MONTH FROM s.OrderDate) AS Month, SUM(s.Quantity) AS Total_Quantity\n",
    "FROM sales s\n",
    "GROUP BY Month;\n",
    "\n",
    "#. 9Get customers who have purchased in more than 5 stores\n",
    " SELECT c.Name, COUNT(DISTINCT s.StoreKey) AS Store_Count\n",
    "FROM sales s\n",
    "JOIN customer c ON s.CustomerKey = c.CustomerKey\n",
    "GROUP BY c.Name\n",
    "HAVING COUNT(DISTINCT s.StoreKey) > 5;\n",
    "\n",
    "#10 Get the total quantity of products sold per month\n",
    "SELECT EXTRACT(MONTH FROM s.OrderDate) AS Month, SUM(s.Quantity) AS Total_Quantity\n",
    "FROM sales s\n",
    "GROUP BY Month;\n",
    "\n",
    "#11. Get products that have not been sold\n",
    "SELECT p.ProductName\n",
    "FROM products p\n",
    "LEFT JOIN sales s ON p.ProductKey = s.ProductKey\n",
    "WHERE s.OrderNumber IS NULL;\n"
   ]
  }
 ],
 "metadata": {
  "kernelspec": {
   "display_name": "Python 3 (ipykernel)",
   "language": "python",
   "name": "python3"
  },
  "language_info": {
   "codemirror_mode": {
    "name": "ipython",
    "version": 3
   },
   "file_extension": ".py",
   "mimetype": "text/x-python",
   "name": "python",
   "nbconvert_exporter": "python",
   "pygments_lexer": "ipython3",
   "version": "3.12.2"
  }
 },
 "nbformat": 4,
 "nbformat_minor": 5
}
